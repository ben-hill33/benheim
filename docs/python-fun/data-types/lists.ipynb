{
 "cells": [
  {
   "cell_type": "markdown",
   "metadata": {},
   "source": [
    "## List Processing"
   ]
  },
  {
   "cell_type": "markdown",
   "metadata": {},
   "source": [
    "Common Methods and Techniques to Process `list()` Data."
   ]
  },
  {
   "cell_type": "markdown",
   "metadata": {},
   "source": [
    "## Loops\n",
    "\n",
    "A `for` loop uses collection-based iteration, which means that Python assigns the next item from an iterable to the loop variable on every iteration.\n",
    "\n",
    "Like so:"
   ]
  },
  {
   "cell_type": "code",
   "execution_count": 1,
   "metadata": {},
   "outputs": [
    {
     "name": "stdout",
     "output_type": "stream",
     "text": [
      "a\n",
      "b\n",
      "c\n"
     ]
    }
   ],
   "source": [
    "values = [\"a\", \"b\", \"c\"]\n",
    "\n",
    "for value in values:\n",
    "    print(value)"
   ]
  },
  {
   "cell_type": "markdown",
   "metadata": {},
   "source": [
    "The advantage of collection-based iteration is that it helps avoid the `off-by-one error` that is common in other languages.\n",
    "\n",
    "Lets do it again, but this time I'll add the respective index to the list I already created above."
   ]
  },
  {
   "cell_type": "code",
   "execution_count": 2,
   "metadata": {},
   "outputs": [
    {
     "name": "stdout",
     "output_type": "stream",
     "text": [
      "0 a\n",
      "1 b\n",
      "2 c\n"
     ]
    }
   ],
   "source": [
    "idx = 0\n",
    "\n",
    "for value in values:\n",
    "    print(idx, value)\n",
    "    idx += 1"
   ]
  },
  {
   "cell_type": "markdown",
   "metadata": {},
   "source": [
    "Not too shabby.. \n",
    "\n",
    "Updating the value for `idx` by one on every iteration alongside the value.\n",
    "\n",
    "You can also use the `range()` method and combine it with  `len()` to create an index automatically. This way would be preferred if you have trouble remembering to update the index counter."
   ]
  },
  {
   "cell_type": "code",
   "execution_count": 3,
   "metadata": {},
   "outputs": [
    {
     "name": "stdout",
     "output_type": "stream",
     "text": [
      "0 a\n",
      "1 b\n",
      "2 c\n"
     ]
    }
   ],
   "source": [
    "for idx in range(len(values)):\n",
    "    value = values[idx]\n",
    "    print(idx, value)\n"
   ]
  },
  {
   "cell_type": "markdown",
   "metadata": {},
   "source": [
    "So, this worked fine to get the results I was making an example for, but it's important to note a couple things about the differences of both. When created the variable `idx` with a default value of zero and incremented it by one in the first loop along with value, I called the `print()` method _before_ I let `idx` update its value. If I hadn't, the loop wouldn't have printed the initial state of the variable assignment and would have printed one extra index. In other words, instead of printing `0, 1, 2`, it would've printed `1, 2, 3`, because the compiler reads top down in Python. \n",
    "\n",
    "In the loop above with the `range(len())` example, I passed in the variable `idx` as the loop's parameter, rather than creating an arbitrary parameter that takes `n` as an input. I created the `value` variable inside the loop and assigned it the value stored inside of the `values` list variable which is again was being read by the `len()` method, which counts how many times an index occurs in a list. `len()` was read by `range()`, which creates a list and can take in a start, stop, and step parameter. This loops' `print()` method is called _after_ rather than _before_ in the previous loop. The second loop is more efficient than the first, but both loop's are somewhat restricted in the way _access_ to the index is given.\n",
    "\n",
    "Iterables that allow this kind of access are called **sequences** in Python. According to [Python's documentation](https://docs.python.org/3/glossary.html#term-iterable), an iterable is any object that can return its members one at a time. Iterables support the [iterator protocol](https://docs.python.org/3/library/stdtypes.html#typeiter), which describes how object members are returned when an object is used in an iterator.\n",
    "\n",
    "Python has two types of commonly used iterables:\n",
    "\n",
    "1. [Sequences](https://docs.python.org/3/glossary.html#term-sequence)\n",
    "2. [Generators](https://docs.python.org/3/glossary.html#term-generator)"
   ]
  },
  {
   "cell_type": "markdown",
   "metadata": {},
   "source": [
    "Any iterator can be used in a `for` loop, but only _sequences_ can be accessed by [integer](https://realpython.com/python-numbers/#integers) indices. You'll get a `TypeError: 'enumerate' object is not subscriptable` if you try to access items by index from a [generator](http://www.dabeaz.com/generators/Generators.pdf) or an [iterator](https://docs.python.org/3/glossary.html#term-iterator)."
   ]
  },
  {
   "cell_type": "markdown",
   "metadata": {},
   "source": [
    "You can use a `for` loop to create a list of elements, which you can make yourself! With three easy steps:\n",
    "- Instantiate an empty list.\n",
    "- Loop over a range of elements.\n",
    "- Append each element to the end of the list."
   ]
  },
  {
   "cell_type": "code",
   "execution_count": 4,
   "metadata": {},
   "outputs": [
    {
     "name": "stdout",
     "output_type": "stream",
     "text": [
      "[0, 1, 4, 9, 16, 25, 36, 49, 64, 81]\n"
     ]
    }
   ],
   "source": [
    "elements = []\n",
    "for idx in range(10):\n",
    "    elements.append(idx * idx)\n",
    "print(elements)"
   ]
  },
  {
   "cell_type": "markdown",
   "metadata": {},
   "source": [
    "As you can see in the range of ten elements above, each index of the list `elements` multiplied itself by itself and appended the result of that multiplication to the end of the list."
   ]
  },
  {
   "cell_type": "markdown",
   "metadata": {},
   "source": [
    "### List Comprehensions\n",
    "\n",
    "Python offers a fancy technique to take that `for` loop up there, cast a spell on it, and turn it into a newt! Lol not really, but what really does happen to it is magical.\n",
    "\n",
    "List comprehensions include three steps as well, like the `for` loop again. Rather than creating an empty list and appending each element, you define the list and its contents at the same time following this formula:\n",
    "\n",
    "`my_list = [expression for index in iterable]`\n",
    "\n",
    "- The expression is index itself, a function or method call, or any expression that returns a value.\n",
    "- The index is the object or value in the list\n",
    "- The iterable is a list, set, sequence, generator, or any other object that returns a value one element at a time. In the `for` loop above, the iterable was the `range()` object."
   ]
  },
  {
   "cell_type": "code",
   "execution_count": 5,
   "metadata": {},
   "outputs": [
    {
     "name": "stdout",
     "output_type": "stream",
     "text": [
      "[0, 1, 4, 9, 16, 25, 36, 49, 64, 81]\n"
     ]
    }
   ],
   "source": [
    "elements = [idx * idx for idx in range(10)]\n",
    "print(elements)"
   ]
  },
  {
   "cell_type": "markdown",
   "metadata": {},
   "source": [
    "I know, right.. Magical."
   ]
  },
  {
   "cell_type": "markdown",
   "metadata": {},
   "source": [
    "## List Slicing"
   ]
  },
  {
   "cell_type": "markdown",
   "metadata": {},
   "source": []
  }
 ],
 "metadata": {
  "interpreter": {
   "hash": "d5c3652cfe85d653c1f1de8b4a40cf1719879264c0699f18c667cddfb4723c6a"
  },
  "kernelspec": {
   "display_name": "Python 3.10.3 ('ben-wiki-aEjw-dlT-py3.10')",
   "language": "python",
   "name": "python3"
  },
  "language_info": {
   "codemirror_mode": {
    "name": "ipython",
    "version": 3
   },
   "file_extension": ".py",
   "mimetype": "text/x-python",
   "name": "python",
   "nbconvert_exporter": "python",
   "pygments_lexer": "ipython3",
   "version": "3.10.4"
  },
  "orig_nbformat": 4
 },
 "nbformat": 4,
 "nbformat_minor": 2
}
