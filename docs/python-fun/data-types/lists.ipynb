{
 "cells": [
  {
   "cell_type": "markdown",
   "metadata": {},
   "source": [
    "# Lists"
   ]
  },
  {
   "cell_type": "markdown",
   "metadata": {},
   "source": [
    "### Sequences and Lists"
   ]
  },
  {
   "cell_type": "markdown",
   "metadata": {},
   "source": [
    "### How loops can be utilized in list processing"
   ]
  },
  {
   "cell_type": "markdown",
   "metadata": {},
   "source": [
    "#### Use a `for` loop\n",
    "\n",
    "You can use a `for` to create a list of elements like so:\n",
    "- Instantiate an empty list.\n",
    "- Loop over a range of elements.\n",
    "- Append each element to the end of the list."
   ]
  },
  {
   "cell_type": "code",
   "execution_count": 1,
   "metadata": {},
   "outputs": [
    {
     "name": "stdout",
     "output_type": "stream",
     "text": [
      "[0, 1, 4, 9, 16, 25, 36, 49, 64, 81]\n"
     ]
    }
   ],
   "source": [
    "elements = []\n",
    "for idx in range(10):\n",
    "    elements.append(idx * idx)\n",
    "print(elements)"
   ]
  },
  {
   "cell_type": "markdown",
   "metadata": {},
   "source": [
    "As you can see in the range of ten elements above, each index of the list `elements` multiplied itself by itself and appended the result of that multiplication to the end of the list."
   ]
  },
  {
   "cell_type": "markdown",
   "metadata": {},
   "source": [
    "#### List Comprehensions\n",
    "\n",
    "Python offers a fancy technique to take that `for` loop up there, cast a spell on it, and turn it into a newt! Lol not really, but what really does happen to it is magical.\n",
    "\n",
    "List comprehensions include three steps as well, like the `for` loop again. Rather than creating an empty list and appending each element, you define the list and its contents at the same time following this formula:\n",
    "\n",
    "`my_list = [expression for index in iterable]`\n",
    "\n",
    "- The expression is index itself, a function or method call, or any expression that returns a value.\n",
    "- The index is the object or value in the list\n",
    "- The iterable is a list, set, sequence, generator, or any other object that returns a value one element at a time. In the `for` loop above, the iterable was the `range()` object."
   ]
  },
  {
   "cell_type": "code",
   "execution_count": 6,
   "metadata": {},
   "outputs": [
    {
     "name": "stdout",
     "output_type": "stream",
     "text": [
      "[0, 1, 4, 9, 16, 25, 36, 49, 64, 81]\n"
     ]
    }
   ],
   "source": [
    "elements = [idx * idx for idx in range(10)]\n",
    "print(elements)"
   ]
  },
  {
   "cell_type": "markdown",
   "metadata": {},
   "source": [
    "I know, right.. Magical."
   ]
  },
  {
   "cell_type": "markdown",
   "metadata": {},
   "source": []
  }
 ],
 "metadata": {
  "interpreter": {
   "hash": "d5c3652cfe85d653c1f1de8b4a40cf1719879264c0699f18c667cddfb4723c6a"
  },
  "kernelspec": {
   "display_name": "Python 3.10.3 ('ben-wiki-aEjw-dlT-py3.10')",
   "language": "python",
   "name": "python3"
  },
  "language_info": {
   "codemirror_mode": {
    "name": "ipython",
    "version": 3
   },
   "file_extension": ".py",
   "mimetype": "text/x-python",
   "name": "python",
   "nbconvert_exporter": "python",
   "pygments_lexer": "ipython3",
   "version": "3.10.3"
  },
  "orig_nbformat": 4
 },
 "nbformat": 4,
 "nbformat_minor": 2
}
