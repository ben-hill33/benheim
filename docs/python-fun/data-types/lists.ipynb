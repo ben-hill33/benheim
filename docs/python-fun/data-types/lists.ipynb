{
 "cells": [
  {
   "cell_type": "markdown",
   "metadata": {},
   "source": [
    "Common Methods and Techniques to Process `list()` Data."
   ]
  },
  {
   "cell_type": "markdown",
   "metadata": {},
   "source": [
    "### Use a `for` loop\n",
    "\n",
    "You can use a `for` loop to create a list of elements, which you can make yourself! With three easy steps:\n",
    "- Instantiate an empty list.\n",
    "- Loop over a range of elements.\n",
    "- Append each element to the end of the list."
   ]
  },
  {
   "cell_type": "code",
   "execution_count": 1,
   "metadata": {},
   "outputs": [
    {
     "name": "stdout",
     "output_type": "stream",
     "text": [
      "[0, 1, 4, 9, 16, 25, 36, 49, 64, 81]\n"
     ]
    }
   ],
   "source": [
    "elements = []\n",
    "for idx in range(10):\n",
    "    elements.append(idx * idx)\n",
    "print(elements)"
   ]
  },
  {
   "cell_type": "markdown",
   "metadata": {},
   "source": [
    "Reversing a list with bracket notation and pointers.\n",
    "- The input is a sequence of numbers stored in a global variable to account for the inability to use the `input()` method in the environment this page is written in.\n",
    "- I create a function that takes in a list, store the first and last index as my start and end pointers, respectively\n",
    "- Create a condition that checks while the end of the list is greater than the start of the list, swap indexes\n",
    "- Note that this solution modifies a sequence, if an argument is passed in that stores a list in random order, the function will return the list as is."
   ]
  },
  {
   "cell_type": "code",
   "execution_count": 2,
   "metadata": {},
   "outputs": [
    {
     "name": "stdout",
     "output_type": "stream",
     "text": [
      "[6, 5, 4, 3, 2, 1]\n",
      "None\n",
      "[26, 25, 24, 23, 22, 21, 20, 19, 18, 17, 16, 15, 14, 13, 12, 11, 10, 9, 8, 7]\n",
      "None\n",
      "['backwards', 'this', 'spell']\n",
      "None\n"
     ]
    }
   ],
   "source": [
    "my_list = [1, 2, 3, 4, 5, 6]\n",
    "#      <-  ^              ^ ->\n",
    "#           \\             |\n",
    "# start:[0]       end[5]\n",
    "\n",
    "\n",
    "def reverse_list(my_list) -> list():\n",
    "    # point to first element\n",
    "    start = 0\n",
    "    # point to last element\n",
    "    end = len(my_list) - 1\n",
    "    # length of list is 5 indexes, the minus one accounts for index, rather than value\n",
    "    # length of array is 6 elements, index starts at index zero, element 6, therefore is index 5\n",
    "\n",
    "    # swap indexes\n",
    "    while end > start:\n",
    "        # while its true that the end is greater than the start\n",
    "        my_list[start], my_list[end] = my_list[end], my_list[start]\n",
    "        # start index, being zero, will be plus one, after the switch, will be 6, 5, 4, 3, 2, 1\n",
    "        start = start + 1\n",
    "        # end index, being index five, while loop will break because once the end(right) reaches the middle, the end will no longer be greater than the start\n",
    "        end = end - 1\n",
    "\n",
    "    print(my_list)\n",
    "\n",
    "print(reverse_list(my_list))\n",
    "\n",
    "my_list_two = [7, 8, 9, 10, 11, 12, 13, 14, 15, 16, 17, 18, 19, 20, 21, 22, 23, 24, 25, 26]\n",
    "print(reverse_list(my_list_two))\n",
    "\n",
    "# TypeError: 'range' object does not support item assignment\n",
    "# my_list_three = range(10)\n",
    "# print(reverse_list(my_list_three))\n",
    "\n",
    "# TypeError: 'str' object does not support item assignment\n",
    "# my_list_four = 'spell this backwards'\n",
    "# print(reverse_list(my_list_four))\n",
    "\n",
    "my_list_four = 'spell this backwards'.split()\n",
    "print(reverse_list(my_list_four))"
   ]
  },
  {
   "cell_type": "code",
   "execution_count": null,
   "metadata": {},
   "outputs": [],
   "source": []
  },
  {
   "cell_type": "markdown",
   "metadata": {},
   "source": [
    "As you can see in the range of ten elements above, each index of the list `elements` multiplied itself by itself and appended the result of that multiplication to the end of the list."
   ]
  },
  {
   "cell_type": "markdown",
   "metadata": {},
   "source": [
    "### List Comprehensions\n",
    "\n",
    "Python offers a fancy technique to take that `for` loop up there, cast a spell on it, and turn it into a newt! Lol not really, but what really does happen to it is magical.\n",
    "\n",
    "List comprehensions include three steps as well, like the `for` loop again. Rather than creating an empty list and appending each element, you define the list and its contents at the same time following this formula:\n",
    "\n",
    "`my_list = [expression for index in iterable]`\n",
    "\n",
    "- The expression is index itself, a function or method call, or any expression that returns a value.\n",
    "- The index is the object or value in the list\n",
    "- The iterable is a list, set, sequence, generator, or any other object that returns a value one element at a time. In the `for` loop above, the iterable was the `range()` object."
   ]
  },
  {
   "cell_type": "code",
   "execution_count": 3,
   "metadata": {},
   "outputs": [
    {
     "name": "stdout",
     "output_type": "stream",
     "text": [
      "[0, 1, 4, 9, 16, 25, 36, 49, 64, 81]\n"
     ]
    }
   ],
   "source": [
    "elements = [idx * idx for idx in range(10)]\n",
    "print(elements)"
   ]
  },
  {
   "cell_type": "markdown",
   "metadata": {},
   "source": [
    "I know, right.. Magical."
   ]
  }
 ],
 "metadata": {
  "interpreter": {
   "hash": "d5c3652cfe85d653c1f1de8b4a40cf1719879264c0699f18c667cddfb4723c6a"
  },
  "kernelspec": {
   "display_name": "Python 3.10.3 ('ben-wiki-aEjw-dlT-py3.10')",
   "language": "python",
   "name": "python3"
  },
  "language_info": {
   "codemirror_mode": {
    "name": "ipython",
    "version": 3
   },
   "file_extension": ".py",
   "mimetype": "text/x-python",
   "name": "python",
   "nbconvert_exporter": "python",
   "pygments_lexer": "ipython3",
   "version": "3.10.3"
  },
  "orig_nbformat": 4
 },
 "nbformat": 4,
 "nbformat_minor": 2
}
